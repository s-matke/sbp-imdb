{
 "cells": [
  {
   "attachments": {},
   "cell_type": "markdown",
   "metadata": {},
   "source": [
    "1. genres ---\n",
    "~~2. episodes~~\n",
    "~~3. seasons~~\n",
    "~~4. episode avg rating ratio~~\n",
    "~~5. cast num of movies created [director]~~\n",
    "~~6. cast [top 5] - actors~~\n",
    "~~7. cast [actor+director]~~\n",
    "8. genres [combo] --\n",
    "~~9. cast~~\n",
    "10. "
   ]
  },
  {
   "attachments": {},
   "cell_type": "markdown",
   "metadata": {},
   "source": [
    "1. ~~Koji zanr sadrzi najvise filmova?~~ Prosecna ocena svakog zanra\n",
    "2. Koliko epizoda ima serija koja ima najvecu prosecnu ocenu?\n",
    "3. Koja sezona je najbolje ocenjena u okviru serije?\n",
    "4. Koliko je odstupanje prosecne ocene serije u odnosu na prosecnu ocenu njenih epizoda?\n",
    "5. Koji reditelj je snimio najvise filmova?\n",
    "6. Top 5 glumaca u odnosu na broj snimljenih filmova\n",
    "7. Pronaci osobe koje istovremeno obavljaju funkciju reditelja i glumca\n",
    "8. Koja kombina zanra je najpopularnija\n",
    "9. Koliki je broj umrlih osoba u 21. veku\n",
    "10. Broj minuta na sceni\n",
    "11. Prosecna ocena glumca u odnosu na prosecnu ocenu svih filmova/serija na kojima je glumio/ucestvovao\n"
   ]
  },
  {
   "attachments": {},
   "cell_type": "markdown",
   "metadata": {},
   "source": [
    "## Serije\n",
    "\n",
    "1. Koliko epizoda ima serija koja ima najvecu prosecnu ocenu?\n",
    "2. Koja sezona je najbolje ocenjena u okviru serije?\n",
    "3. Prosecno odstupanje ocene serije u odnosu na avg epizoda"
   ]
  },
  {
   "cell_type": "code",
   "execution_count": null,
   "metadata": {},
   "outputs": [],
   "source": [
    "{\n",
    "    \"_id\" : ,\n",
    "    \"tconst\",\n",
    "    \"primaryTitle\",\n",
    "    \"titleType\",\n",
    "    \"isAdult\",\n",
    "    \"startYear\",\n",
    "    \"endYear\",\n",
    "    \"runtimeMinutes\",\n",
    "    \"genres\",\n",
    "    \"rating\": {\n",
    "        \"avgSeries\",\n",
    "        \"avgEpisodes\",\n",
    "    },\n",
    "    \"numEpisodes\",\n",
    "    \"cast\",\n",
    "    \"episodes\": [\n",
    "        {\n",
    "            \"tconst\",\n",
    "            \"primaryTitle\",\n",
    "            \"isAdult\",\n",
    "            \"startYear\",\n",
    "            \"endYear\",\n",
    "            \"runtimeMinutes\",\n",
    "            \"seasonNumber\",\n",
    "            \"episodeNumber\",\n",
    "            \"rating\": {\n",
    "                \"avgEp\"\n",
    "            }\n",
    "        }\n",
    "    ]\n",
    "}"
   ]
  },
  {
   "attachments": {},
   "cell_type": "markdown",
   "metadata": {},
   "source": [
    "db.imdb.aggregate([\n",
    "    {\n",
    "        $group: {\n",
    "            \n",
    "        }\n",
    "    }\n",
    "])"
   ]
  },
  {
   "attachments": {},
   "cell_type": "markdown",
   "metadata": {},
   "source": [
    "## Cast\n",
    "\n",
    "1. Koji reditelj je snimio najvise filmova?\n",
    "2. Top 5 glumaca u odnosu na broj snimljenih filmova\n",
    "3. Osobe koje istovremeno izvrsavaju ulogu reditelja i glumca\n",
    "4. Broj umrlih osoba 21. vek"
   ]
  },
  {
   "cell_type": "code",
   "execution_count": null,
   "metadata": {},
   "outputs": [],
   "source": [
    "{\n",
    "    \"nconst\",\n",
    "    \"primaryName\",\n",
    "    \"birthYear\",\n",
    "    \"deathYear\",\n",
    "    \"category\",\n",
    "    \"numOfMoviesDirector\":,\n",
    "    \"numOfMovies\": \n",
    "    \"titles\": [\n",
    "        {\n",
    "\n",
    "        }\n",
    "    ]\n",
    "}"
   ]
  },
  {
   "attachments": {},
   "cell_type": "markdown",
   "metadata": {},
   "source": [
    "Prosecna ocena za svaki zanr posebno"
   ]
  }
 ],
 "metadata": {
  "language_info": {
   "name": "python"
  },
  "orig_nbformat": 4
 },
 "nbformat": 4,
 "nbformat_minor": 2
}
